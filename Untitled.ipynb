{
 "cells": [
  {
   "cell_type": "code",
   "execution_count": 1,
   "id": "dc943303-bc18-4786-9a1a-db384f83dc37",
   "metadata": {},
   "outputs": [
    {
     "name": "stdout",
     "output_type": "stream",
     "text": [
      "Dados carregados com sucesso no MySQL!\n"
     ]
    }
   ],
   "source": [
    "import pandas as pd\n",
    "from sqlalchemy import create_engine\n",
    "\n",
    "# Carregar o arquivo CSV\n",
    "df = pd.read_csv('data_science_salaries_traduzido.csv')\n",
    "\n",
    "# Definir conexão com o MySQL\n",
    "usuario = 'root'  # seu usuário do MySQL\n",
    "senha = '3101'  # sua senha do MySQL\n",
    "host = 'localhost'  # ou o endereço do seu servidor MySQL\n",
    "porta = '3306'  # porta padrão do MySQL\n",
    "database = 'dados_cargos'  # nome do banco de dados\n",
    "\n",
    "# Criar a string de conexão\n",
    "conn_str = f'mysql+pymysql://{usuario}:{senha}@{host}:{porta}/{database}'\n",
    "engine = create_engine(conn_str)\n",
    "\n",
    "# Carregar os dados no MySQL\n",
    "df.to_sql('salarios_data_science', con=engine, if_exists='replace', index=False)\n",
    "\n",
    "print(\"Dados carregados com sucesso no MySQL!\")\n"
   ]
  },
  {
   "cell_type": "code",
   "execution_count": 4,
   "id": "49298b42-bc1c-45d5-8d52-d371277cbbdd",
   "metadata": {},
   "outputs": [],
   "source": [
    "df = pd.read_csv('C:/workspace/Data Science Jobs/data_science_salaries_traduzido.csv')\n"
   ]
  },
  {
   "cell_type": "code",
   "execution_count": 6,
   "id": "9bf28f24-67c4-432a-baeb-1a1d8c04e13a",
   "metadata": {},
   "outputs": [
    {
     "name": "stdout",
     "output_type": "stream",
     "text": [
      "['.ipynb_checkpoints', 'data_science_job_clean.csv', 'data_science_salaries_traduzido.csv', 'Untitled.ipynb']\n"
     ]
    }
   ],
   "source": [
    "import os\n",
    "print(os.listdir())\n"
   ]
  },
  {
   "cell_type": "code",
   "execution_count": 7,
   "id": "e696c105-013c-4021-82b9-66ed837602f3",
   "metadata": {},
   "outputs": [
    {
     "name": "stdout",
     "output_type": "stream",
     "text": [
      "Index(['índice', 'ano', 'nível_de_experiência', 'tipo_de_emprego', 'cargo',\n",
      "       'salário', 'moeda_do_salário', 'salário_em_usd',\n",
      "       'residência_do_funcionário', 'proporção_remota',\n",
      "       'localização_da_empresa', 'tamanho_da_empresa'],\n",
      "      dtype='object')\n"
     ]
    }
   ],
   "source": [
    "import pandas as pd\n",
    "\n",
    "# Carregar o arquivo CSV\n",
    "df = pd.read_csv('data_science_salaries_traduzido.csv')\n",
    "\n",
    "# Exibir os nomes das colunas\n",
    "print(df.columns)\n"
   ]
  },
  {
   "cell_type": "code",
   "execution_count": 8,
   "id": "5c7f4e26-8927-4c85-916d-9971dde9260c",
   "metadata": {},
   "outputs": [
    {
     "name": "stdout",
     "output_type": "stream",
     "text": [
      "['DE' 'JP' 'GB' 'HN' 'US' 'HU' 'NZ' 'FR' 'IN' 'PK' 'PL' 'PT' 'CN' 'GR'\n",
      " 'AE' 'NL' 'MX' 'CA' 'AT' 'NG' 'PH' 'ES' 'DK' 'RU' 'IT' 'HR' 'BG' 'SG'\n",
      " 'BR' 'IQ' 'VN' 'BE' 'UA' 'MT' 'CL' 'RO' 'IR' 'CO' 'MD' 'KE' 'SI' 'HK'\n",
      " 'TR' 'RS' 'PR' 'LU' 'JE' 'CZ' 'AR' 'DZ' 'TN' 'MY' 'EE' 'AU' 'BO' 'IE'\n",
      " 'CH']\n"
     ]
    }
   ],
   "source": [
    "# Exibir os valores únicos na coluna 'residência_do_funcionário'\n",
    "print(df['residência_do_funcionário'].unique())\n"
   ]
  },
  {
   "cell_type": "code",
   "execution_count": 9,
   "id": "d20c29f1-d473-4d65-80cb-4c846d720b33",
   "metadata": {},
   "outputs": [
    {
     "name": "stdout",
     "output_type": "stream",
     "text": [
      "   índice   ano nível_de_experiência tipo_de_emprego  \\\n",
      "0       0  2020                   MI              FT   \n",
      "1       1  2020                   SE              FT   \n",
      "2       2  2020                   SE              FT   \n",
      "3       3  2020                   MI              FT   \n",
      "4       4  2020                   SE              FT   \n",
      "\n",
      "                        cargo  salário moeda_do_salário  salário_em_usd  \\\n",
      "0              Data Scientist    70000              EUR           79833   \n",
      "1  Machine Learning Scientist   260000              USD          260000   \n",
      "2           Big Data Engineer    85000              GBP          109024   \n",
      "3        Product Data Analyst    20000              USD           20000   \n",
      "4   Machine Learning Engineer   150000              USD          150000   \n",
      "\n",
      "  residência_do_funcionário  proporção_remota localização_da_empresa  \\\n",
      "0                  Alemanha                 0               Alemanha   \n",
      "1                     Japão                 0                  Japão   \n",
      "2               Reino Unido                50            Reino Unido   \n",
      "3                  Honduras                 0               Honduras   \n",
      "4            Estados Unidos                50         Estados Unidos   \n",
      "\n",
      "  tamanho_da_empresa  \n",
      "0                  L  \n",
      "1                  S  \n",
      "2                  M  \n",
      "3                  S  \n",
      "4                  L  \n"
     ]
    }
   ],
   "source": [
    "# Dicionário de siglas para nomes completos dos países\n",
    "siglas_para_paises = {\n",
    "    'DE': 'Alemanha', \n",
    "    'JP': 'Japão',\n",
    "    'GB': 'Reino Unido', \n",
    "    'HN': 'Honduras',\n",
    "    'US': 'Estados Unidos',\n",
    "    'HU': 'Hungria',\n",
    "    'NZ': 'Nova Zelândia',\n",
    "    'FR': 'França',\n",
    "    'IN': 'Índia',\n",
    "    'PK': 'Paquistão',\n",
    "    'PL': 'Polônia',\n",
    "    'PT': 'Portugal',\n",
    "    'CN': 'China',\n",
    "    'GR': 'Grécia',\n",
    "    'AE': 'Emirados Árabes Unidos',\n",
    "    'NL': 'Países Baixos',\n",
    "    'MX': 'México',\n",
    "    'CA': 'Canadá',\n",
    "    'AT': 'Áustria',\n",
    "    'NG': 'Nigéria',\n",
    "    'PH': 'Filipinas',\n",
    "    'ES': 'Espanha',\n",
    "    'DK': 'Dinamarca',\n",
    "    'RU': 'Rússia',\n",
    "    'IT': 'Itália',\n",
    "    'HR': 'Croácia',\n",
    "    'BG': 'Bulgária',\n",
    "    'SG': 'Cingapura',\n",
    "    'BR': 'Brasil',\n",
    "    'IQ': 'Iraque',\n",
    "    'VN': 'Vietnã',\n",
    "    'BE': 'Bélgica',\n",
    "    'UA': 'Ucrânia',\n",
    "    'MT': 'Malta',\n",
    "    'CL': 'Chile',\n",
    "    'RO': 'Romênia',\n",
    "    'IR': 'Irã',\n",
    "    'CO': 'Colômbia',\n",
    "    'MD': 'Moldávia',\n",
    "    'KE': 'Quênia',\n",
    "    'SI': 'Eslovênia',\n",
    "    'HK': 'Hong Kong',\n",
    "    'TR': 'Turquia',\n",
    "    'RS': 'Sérvia',\n",
    "    'PR': 'Porto Rico',\n",
    "    'LU': 'Luxemburgo',\n",
    "    'JE': 'Jersey',\n",
    "    'CZ': 'República Tcheca',\n",
    "    'AR': 'Argentina',\n",
    "    'DZ': 'Argélia',\n",
    "    'TN': 'Tunísia',\n",
    "    'MY': 'Malásia',\n",
    "    'EE': 'Estônia',\n",
    "    'AU': 'Austrália',\n",
    "    'BO': 'Bolívia',\n",
    "    'IE': 'Irlanda',\n",
    "    'CH': 'Suíça'\n",
    "}\n",
    "\n",
    "# Carregar o arquivo CSV\n",
    "df = pd.read_csv('data_science_salaries_traduzido.csv')\n",
    "\n",
    "# Substituir as siglas na coluna 'residência_do_funcionário' pelos nomes completos\n",
    "df['residência_do_funcionário'] = df['residência_do_funcionário'].map(siglas_para_paises).fillna(df['residência_do_funcionário'])\n",
    "\n",
    "# Exibir os primeiros registros para verificar a mudança\n",
    "print(df.head())\n"
   ]
  },
  {
   "cell_type": "code",
   "execution_count": 10,
   "id": "6874539e-883a-48f1-a0a0-0b53406fb410",
   "metadata": {},
   "outputs": [
    {
     "name": "stdout",
     "output_type": "stream",
     "text": [
      "Arquivo salvo com sucesso!\n"
     ]
    }
   ],
   "source": [
    "# Salvar as alterações em um novo arquivo CSV\n",
    "df.to_csv('data_science_salaries_traduzido_atualizado.csv', index=False)\n",
    "\n",
    "print(\"Arquivo salvo com sucesso!\")\n"
   ]
  },
  {
   "cell_type": "code",
   "execution_count": 11,
   "id": "e7753fbd-f421-4d6f-be7d-1bd70f43d06f",
   "metadata": {},
   "outputs": [
    {
     "name": "stdout",
     "output_type": "stream",
     "text": [
      "['MI' 'SE' 'EN' 'EX']\n"
     ]
    }
   ],
   "source": [
    "# Exibir os valores únicos da coluna 'nível_de_experiência'\n",
    "print(df['nível_de_experiência'].unique())\n"
   ]
  },
  {
   "cell_type": "code",
   "execution_count": 12,
   "id": "3b89b84b-5fa3-4bab-b397-1f76606914cc",
   "metadata": {},
   "outputs": [
    {
     "name": "stdout",
     "output_type": "stream",
     "text": [
      "['Pleno' 'Sênior' 'Júnior' 'Especialista']\n"
     ]
    }
   ],
   "source": [
    "# Criar um dicionário de substituição\n",
    "substituicoes = {\n",
    "    'MI': 'Pleno',\n",
    "    'SE': 'Sênior',\n",
    "    'EN': 'Júnior',\n",
    "    'EX': 'Especialista'\n",
    "}\n",
    "\n",
    "# Substituir as siglas pelos nomes completos\n",
    "df['nível_de_experiência'] = df['nível_de_experiência'].map(substituicoes)\n",
    "\n",
    "# Verificar as alterações\n",
    "print(df['nível_de_experiência'].unique())\n"
   ]
  },
  {
   "cell_type": "code",
   "execution_count": 13,
   "id": "c981e4ee-2b6d-4968-b8f5-bd00488642ce",
   "metadata": {},
   "outputs": [
    {
     "name": "stdout",
     "output_type": "stream",
     "text": [
      "['FT' 'CT' 'PT' 'FL']\n"
     ]
    }
   ],
   "source": [
    "# Exibir os valores únicos da coluna 'tipo_de_emprego'\n",
    "print(df['tipo_de_emprego'].unique())"
   ]
  },
  {
   "cell_type": "code",
   "execution_count": 14,
   "id": "2dbb355c-d8aa-4d9a-bbac-838617db8ddd",
   "metadata": {},
   "outputs": [
    {
     "name": "stdout",
     "output_type": "stream",
     "text": [
      "['Tempo Integral' 'Contratado' 'Meio Período' 'Freelancer']\n"
     ]
    }
   ],
   "source": [
    "# Criar um dicionário de substituição\n",
    "substituicoes_tipo_emprego = {\n",
    "    'FT': 'Tempo Integral',\n",
    "    'CT': 'Contratado',\n",
    "    'PT': 'Meio Período',\n",
    "    'FL': 'Freelancer'\n",
    "}\n",
    "\n",
    "# Substituir as siglas pelos nomes completos\n",
    "df['tipo_de_emprego'] = df['tipo_de_emprego'].map(substituicoes_tipo_emprego)\n",
    "\n",
    "# Verificar as alterações\n",
    "print(df['tipo_de_emprego'].unique())\n"
   ]
  },
  {
   "cell_type": "code",
   "execution_count": 15,
   "id": "60769e04-541e-4802-b16a-9f1ebd5a6a1f",
   "metadata": {},
   "outputs": [
    {
     "name": "stdout",
     "output_type": "stream",
     "text": [
      "['L' 'S' 'M']\n"
     ]
    }
   ],
   "source": [
    "# Exibir os valores únicos da coluna 'tamanho_da_empresa'\n",
    "print(df['tamanho_da_empresa'].unique())\n"
   ]
  },
  {
   "cell_type": "code",
   "execution_count": 16,
   "id": "8fa199bf-7833-4c7f-bba5-eab2914f7cd7",
   "metadata": {},
   "outputs": [
    {
     "name": "stdout",
     "output_type": "stream",
     "text": [
      "['Grande' 'Pequena' 'Média']\n"
     ]
    }
   ],
   "source": [
    "# Criar um dicionário de substituição\n",
    "substituicoes_tamanho_empresa = {\n",
    "    'L': 'Grande',\n",
    "    'M': 'Média',\n",
    "    'S': 'Pequena'\n",
    "}\n",
    "\n",
    "# Substituir as siglas pelos nomes completos\n",
    "df['tamanho_da_empresa'] = df['tamanho_da_empresa'].map(substituicoes_tamanho_empresa)\n",
    "\n",
    "# Verificar as alterações\n",
    "print(df['tamanho_da_empresa'].unique())\n"
   ]
  },
  {
   "cell_type": "code",
   "execution_count": 17,
   "id": "be631f4b-29f8-4792-860c-4a0c8839b134",
   "metadata": {},
   "outputs": [
    {
     "name": "stdout",
     "output_type": "stream",
     "text": [
      "[  0  50 100]\n"
     ]
    }
   ],
   "source": [
    "# Verificar os valores únicos na coluna 'proporção_remota'\n",
    "print(df['proporção_remota'].unique())\n"
   ]
  },
  {
   "cell_type": "code",
   "execution_count": 18,
   "id": "f3b01739-eca7-4e1f-b57c-8ffdf3d96a9c",
   "metadata": {},
   "outputs": [
    {
     "name": "stdout",
     "output_type": "stream",
     "text": [
      "['Presencial' 'Híbrido' 'Remoto']\n"
     ]
    }
   ],
   "source": [
    "# Criar um dicionário de substituição\n",
    "substituicoes_proporcao_remota = {\n",
    "    0: 'Presencial',\n",
    "    50: 'Híbrido',\n",
    "    100: 'Remoto'\n",
    "}\n",
    "\n",
    "# Substituir os valores\n",
    "df['proporção_remota'] = df['proporção_remota'].map(substituicoes_proporcao_remota)\n",
    "\n",
    "# Verificar as alterações\n",
    "print(df['proporção_remota'].unique())\n"
   ]
  },
  {
   "cell_type": "code",
   "execution_count": 19,
   "id": "5d7d7b00-2b38-492e-819b-443bc5ea2a2c",
   "metadata": {},
   "outputs": [
    {
     "name": "stdout",
     "output_type": "stream",
     "text": [
      "0     79833\n",
      "1    260000\n",
      "2    109024\n",
      "3     20000\n",
      "4    150000\n",
      "Name: salário_em_usd, dtype: int64\n",
      "0\n",
      "count       607.000000\n",
      "mean     112297.869852\n",
      "std       70957.259411\n",
      "min        2859.000000\n",
      "25%       62726.000000\n",
      "50%      101570.000000\n",
      "75%      150000.000000\n",
      "max      600000.000000\n",
      "Name: salário_em_usd, dtype: float64\n"
     ]
    }
   ],
   "source": [
    "# Verificar os primeiros valores da coluna 'salário_em_usd'\n",
    "print(df['salário_em_usd'].head())\n",
    "\n",
    "# Verificar se existem valores faltantes\n",
    "print(df['salário_em_usd'].isnull().sum())\n",
    "\n",
    "# Verificar estatísticas descritivas, como média, mediana, etc.\n",
    "print(df['salário_em_usd'].describe())\n"
   ]
  },
  {
   "cell_type": "code",
   "execution_count": 20,
   "id": "766e1b92-afda-432d-8fb6-3f6bac0e2f47",
   "metadata": {},
   "outputs": [],
   "source": [
    "# Salvar o DataFrame modificado em um novo arquivo CSV\n",
    "df.to_csv('data_science_salaries_traduzido_modificado.csv', index=False)\n"
   ]
  },
  {
   "cell_type": "code",
   "execution_count": 22,
   "id": "97ec9042-1f8c-49ab-937e-6d82b7dd33e7",
   "metadata": {},
   "outputs": [
    {
     "data": {
      "text/plain": [
       "607"
      ]
     },
     "execution_count": 22,
     "metadata": {},
     "output_type": "execute_result"
    }
   ],
   "source": [
    "import pandas as pd\n",
    "from sqlalchemy import create_engine\n",
    "\n",
    "# Defina as variáveis corretamente\n",
    "user = 'root'  # seu usuário\n",
    "password = '3101'  # sua senha (substitua com a senha correta)\n",
    "host = 'localhost'  # ou o IP do seu servidor MySQL\n",
    "database = 'salarios_emprego'  # nome do banco de dados\n",
    "\n",
    "# Criar a conexão\n",
    "engine = create_engine(f'mysql+pymysql://{user}:{password}@{host}/{database}')\n",
    "\n",
    "# Carregar os dados modificados\n",
    "df = pd.read_csv('C:/ProgramData/MySQL/MySQL Server 8.0/Uploads/data_science_salaries_traduzido_modificado.csv')\n",
    "\n",
    "# Verificar as primeiras linhas para conferir\n",
    "df.head()\n",
    "\n",
    "# Carregar os dados na tabela do MySQL\n",
    "df.to_sql('salarios_emprego', con=engine, if_exists='replace', index=False)\n",
    "\n",
    "# Verifique a inserção no MySQL executando uma consulta como:\n",
    "# SELECT * FROM salarios_emprego;\n"
   ]
  },
  {
   "cell_type": "code",
   "execution_count": null,
   "id": "07ba6946-1029-42ee-8e42-222ee261d13b",
   "metadata": {},
   "outputs": [],
   "source": []
  }
 ],
 "metadata": {
  "kernelspec": {
   "display_name": "Python 3 (ipykernel)",
   "language": "python",
   "name": "python3"
  },
  "language_info": {
   "codemirror_mode": {
    "name": "ipython",
    "version": 3
   },
   "file_extension": ".py",
   "mimetype": "text/x-python",
   "name": "python",
   "nbconvert_exporter": "python",
   "pygments_lexer": "ipython3",
   "version": "3.12.7"
  }
 },
 "nbformat": 4,
 "nbformat_minor": 5
}
